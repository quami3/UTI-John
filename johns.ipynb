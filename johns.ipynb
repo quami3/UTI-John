{
 "cells": [
  {
   "cell_type": "code",
   "execution_count": 36,
   "metadata": {},
   "outputs": [],
   "source": [
    "import pandas as pd\n",
    "import numpy as np\n",
    "import matplotlib.pyplot as plt\n",
    "import statsmodels.api as sm\n",
    "import pandas as pd\n",
    "from sklearn.metrics import confusion_matrix"
   ]
  },
  {
   "cell_type": "code",
   "execution_count": 44,
   "metadata": {},
   "outputs": [],
   "source": [
    "# Read data from Excel file\n",
    "file_path = 'C:\\\\Users\\\\kwame\\\\Downloads\\\\UTI.xlsx'  # Replace with your actual file path\n",
    "df = pd.read_excel(file_path)"
   ]
  },
  {
   "cell_type": "code",
   "execution_count": 47,
   "metadata": {},
   "outputs": [
    {
     "name": "stdout",
     "output_type": "stream",
     "text": [
      "      utistatus  NITRITES  utistatusbydipstick  LEUKOCYTES\n",
      "0             1         0                    0           0\n",
      "1             1         0                    1           1\n",
      "2             1         0                    1           1\n",
      "3             1         0                    1           1\n",
      "4             1         1                    1           1\n",
      "...         ...       ...                  ...         ...\n",
      "1893          1         0                    0           0\n",
      "1894          1         0                    0           0\n",
      "1895          1         1                    1           1\n",
      "1896          1         0                    1           1\n",
      "1897          1         0                    1           1\n",
      "\n",
      "[1898 rows x 4 columns]\n"
     ]
    }
   ],
   "source": [
    "print(df)"
   ]
  },
  {
   "cell_type": "code",
   "execution_count": 46,
   "metadata": {},
   "outputs": [],
   "source": [
    "# Map categorical values to binary (1 for \"Positive\" and 0 for \"Negative\")\n",
    "df.replace('Positive', 1, inplace=True)\n",
    "df.replace('Negative', 0, inplace=True)"
   ]
  },
  {
   "cell_type": "code",
   "execution_count": 42,
   "metadata": {},
   "outputs": [
    {
     "name": "stdout",
     "output_type": "stream",
     "text": [
      "Sensitivity: 0.8704965920155794\n",
      "Specificity: 0.4006888633754305\n",
      "Positive Predictive Value (PPV): 0.6313559322033898\n",
      "Negative Predictive Value (NPV): 0.7240663900414938\n"
     ]
    }
   ],
   "source": [
    "# Extract values from the dataframe\n",
    "utistatus = df['utistatus']\n",
    "utistatusbydipstick = df['utistatusbydipstick']\n",
    "\n",
    "# Calculate confusion matrix\n",
    "conf_matrix = confusion_matrix(utistatus, utistatusbydipstick)\n",
    "\n",
    "# Extract values from the confusion matrix\n",
    "tn, fp, fn, tp = conf_matrix.ravel()\n",
    "\n",
    "# Function to calculate sensitivity\n",
    "def sensitivity(tp, fn):\n",
    "    return tp / (tp + fn)\n",
    "\n",
    "# Function to calculate specificity\n",
    "def specificity(tn, fp):\n",
    "    return tn / (tn + fp)\n",
    "\n",
    "# Function to calculate positive predictive value (PPV)\n",
    "def ppv(tp, fp):\n",
    "    return tp / (tp + fp)\n",
    "\n",
    "# Function to calculate negative predictive value (NPV)\n",
    "def npv(tn, fn):\n",
    "    return tn / (tn + fn)\n",
    "\n",
    "# Calculating metrics\n",
    "sen = sensitivity(tp, fn)\n",
    "spec = specificity(tn, fp)\n",
    "ppv_value = ppv(tp, fp)\n",
    "npv_value = npv(tn, fn)\n",
    "\n",
    "# Printing the results\n",
    "print(\"Sensitivity:\", sen)\n",
    "print(\"Specificity:\", spec)\n",
    "print(\"Positive Predictive Value (PPV):\", ppv_value)\n",
    "print(\"Negative Predictive Value (NPV):\", npv_value)"
   ]
  },
  {
   "cell_type": "code",
   "execution_count": 43,
   "metadata": {},
   "outputs": [
    {
     "name": "stdout",
     "output_type": "stream",
     "text": [
      "Sensitivity: 0.8403115871470301\n",
      "Specificity: 0.4087256027554535\n",
      "Positive Predictive Value (PPV): 0.6262699564586357\n",
      "Negative Predictive Value (NPV): 0.6846153846153846\n"
     ]
    }
   ],
   "source": [
    "# Extract values from the dataframe\n",
    "utistatus = df['utistatus']\n",
    "Leukocytes = df['LEUKOCYTES']\n",
    "\n",
    "# Calculate confusion matrix\n",
    "conf_matrix = confusion_matrix(utistatus, Leukocytes)\n",
    "\n",
    "# Extract values from the confusion matrix\n",
    "tn, fp, fn, tp = conf_matrix.ravel()\n",
    "\n",
    "# Function to calculate sensitivity\n",
    "def sensitivity(tp, fn):\n",
    "    return tp / (tp + fn)\n",
    "\n",
    "# Function to calculate specificity\n",
    "def specificity(tn, fp):\n",
    "    return tn / (tn + fp)\n",
    "\n",
    "# Function to calculate positive predictive value (PPV)\n",
    "def ppv(tp, fp):\n",
    "    return tp / (tp + fp)\n",
    "\n",
    "# Function to calculate negative predictive value (NPV)\n",
    "def npv(tn, fn):\n",
    "    return tn / (tn + fn)\n",
    "\n",
    "# Calculating metrics\n",
    "sen = sensitivity(tp, fn)\n",
    "spec = specificity(tn, fp)\n",
    "ppv_value = ppv(tp, fp)\n",
    "npv_value = npv(tn, fn)\n",
    "\n",
    "# Printing the results\n",
    "print(\"Sensitivity:\", sen)\n",
    "print(\"Specificity:\", spec)\n",
    "print(\"Positive Predictive Value (PPV):\", ppv_value)\n",
    "print(\"Negative Predictive Value (NPV):\", npv_value)"
   ]
  },
  {
   "cell_type": "code",
   "execution_count": 49,
   "metadata": {},
   "outputs": [
    {
     "name": "stdout",
     "output_type": "stream",
     "text": [
      "Sensitivity: 0.1976630963972736\n",
      "Specificity: 0.9735935706084959\n",
      "Positive Predictive Value (PPV): 0.8982300884955752\n",
      "Negative Predictive Value (NPV): 0.507177033492823\n"
     ]
    }
   ],
   "source": [
    "# Extract values from the dataframe\n",
    "utistatus = df['utistatus']\n",
    "NITRITES = df['NITRITES']\n",
    "\n",
    "# Calculate confusion matrix\n",
    "conf_matrix = confusion_matrix(utistatus, NITRITES)\n",
    "\n",
    "# Extract values from the confusion matrix\n",
    "tn, fp, fn, tp = conf_matrix.ravel()\n",
    "\n",
    "# Function to calculate sensitivity\n",
    "def sensitivity(tp, fn):\n",
    "    return tp / (tp + fn)\n",
    "\n",
    "# Function to calculate specificity\n",
    "def specificity(tn, fp):\n",
    "    return tn / (tn + fp)\n",
    "\n",
    "# Function to calculate positive predictive value (PPV)\n",
    "def ppv(tp, fp):\n",
    "    return tp / (tp + fp)\n",
    "\n",
    "# Function to calculate negative predictive value (NPV)\n",
    "def npv(tn, fn):\n",
    "    return tn / (tn + fn)\n",
    "\n",
    "# Calculating metrics\n",
    "sen = sensitivity(tp, fn)\n",
    "spec = specificity(tn, fp)\n",
    "ppv_value = ppv(tp, fp)\n",
    "npv_value = npv(tn, fn)\n",
    "\n",
    "# Printing the results\n",
    "print(\"Sensitivity:\", sen)\n",
    "print(\"Specificity:\", spec)\n",
    "print(\"Positive Predictive Value (PPV):\", ppv_value)\n",
    "print(\"Negative Predictive Value (NPV):\", npv_value)"
   ]
  }
 ],
 "metadata": {
  "kernelspec": {
   "display_name": "Python 3",
   "language": "python",
   "name": "python3"
  },
  "language_info": {
   "codemirror_mode": {
    "name": "ipython",
    "version": 3
   },
   "file_extension": ".py",
   "mimetype": "text/x-python",
   "name": "python",
   "nbconvert_exporter": "python",
   "pygments_lexer": "ipython3",
   "version": "3.11.5"
  }
 },
 "nbformat": 4,
 "nbformat_minor": 2
}
